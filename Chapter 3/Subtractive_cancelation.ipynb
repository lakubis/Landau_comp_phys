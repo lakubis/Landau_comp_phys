{
 "cells": [
  {
   "cell_type": "markdown",
   "metadata": {},
   "source": [
    "Say that we have a quadratic equation\n",
    "\n",
    "$ax^2 + bx + c = 0$\n",
    "\n",
    "Then the analytic solution of the equation is\n",
    "\n",
    "$x_{1,2} = \\frac{-b\\pm \\sqrt{b^2 - 4ac}}{2a}$\n",
    "\n",
    "or\n",
    "\n",
    "$x_{1,2} = \\frac{-2c}{b\\pm\\sqrt{b^2 - 4ac}}$\n",
    "\n",
    "We'll define a function that calculates the solution given $a,b,c$"
   ]
  },
  {
   "cell_type": "code",
   "execution_count": null,
   "metadata": {},
   "outputs": [],
   "source": [
    "from math import sqrt\n",
    "def solution(a,b,c):\n",
    "    x_1 = (-b+sqrt(b**2-4*a*c))/(2*a)\n",
    "    x_2 = (-b-sqrt(b**2-4*a*c))/(2*a)\n",
    "    x_3 = (-2*c)/(b+sqrt(b**2-4*a*c))\n",
    "    x_4 = (-2*c)/(b-sqrt(b**2-4*a*c))\n",
    "\n",
    "    return x_1, x_2, x_3, x_4"
   ]
  }
 ],
 "metadata": {
  "language_info": {
   "name": "python"
  },
  "orig_nbformat": 4
 },
 "nbformat": 4,
 "nbformat_minor": 2
}

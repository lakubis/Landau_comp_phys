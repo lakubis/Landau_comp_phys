{
 "cells": [
  {
   "cell_type": "markdown",
   "metadata": {},
   "source": [
    "We'll use the code that we've already made in Summing_series.ipynb"
   ]
  },
  {
   "cell_type": "code",
   "execution_count": null,
   "metadata": {},
   "outputs": [],
   "source": [
    "# Create a function that will do this\n",
    "import numpy as np\n",
    "import pandas as pd\n",
    "from math import factorial, pi, sin\n",
    "\n",
    "def man_factorial(n):\n",
    "    fact = 1\n",
    "    for num in range(2,n+1):\n",
    "        fact *= num\n",
    "    return fact\n",
    "\n",
    "def man_sin(x, eps = 1e-8, man_fact = False):\n",
    "    n = 1\n",
    "    term = x\n",
    "    sum = x\n",
    "    while abs(term/sum)>eps:\n",
    "        n += 1\n",
    "        if not man_fact:\n",
    "            term = (((-1)**(n-1))*(x**(2*n-1)))/(factorial(2*n-1))\n",
    "        else:\n",
    "            term = (((-1)**(n-1))*(x**(2*n-1)))/(man_factorial(2*n-1))\n",
    "        sum += term\n",
    "\n",
    "    #print (\"x = \", x,\", n_max = \", n, \", sum = \", sum, \", |(sum-sin(x))/sin(x)| = \", abs((sum - sin(x))/sin(x)))\n",
    "    return x, n, sum, abs((sum - sin(x))/sin(x))"
   ]
  }
 ],
 "metadata": {
  "language_info": {
   "name": "python"
  },
  "orig_nbformat": 4
 },
 "nbformat": 4,
 "nbformat_minor": 2
}

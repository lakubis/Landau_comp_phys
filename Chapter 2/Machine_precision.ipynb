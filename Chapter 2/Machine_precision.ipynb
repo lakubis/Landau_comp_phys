{
 "cells": [
  {
   "cell_type": "markdown",
   "metadata": {},
   "source": [
    "Machine precision is defined as the maximum positive number $\\epsilon_m$ that can be added to the number stored as $1$ without changing it:\n",
    "\n",
    "$1_c + \\epsilon_m = 1_c$\n",
    "\n",
    "That's why we usually assume that single-precision numbers contain an error in the 6th decimal place, and doubles have an error in the 15th place."
   ]
  },
  {
   "cell_type": "code",
   "execution_count": 21,
   "metadata": {},
   "outputs": [],
   "source": [
    "# In order to properly simulate single precision, we can use Numpy float32\n",
    "import numpy as np"
   ]
  },
  {
   "cell_type": "code",
   "execution_count": 23,
   "metadata": {},
   "outputs": [
    {
     "name": "stdout",
     "output_type": "stream",
     "text": [
      "eps =  5.9604645e-08 , one + eps =  1.0\n"
     ]
    }
   ],
   "source": [
    "# Testing for machine precision within a factor of two for single precision. In numpy, single precision refers to np.float32 \n",
    "\n",
    "eps = np.float32(1.0)\n",
    "loop = True\n",
    "\n",
    "while loop:\n",
    "    eps = eps/np.float32(2)\n",
    "    one = np.float32(1.0)+eps\n",
    "    if one == np.float32(1.0):\n",
    "        print('eps = ', eps, \", one + eps = \", one)\n",
    "        loop = False\n",
    "\n"
   ]
  },
  {
   "cell_type": "code",
   "execution_count": 24,
   "metadata": {},
   "outputs": [
    {
     "name": "stdout",
     "output_type": "stream",
     "text": [
      "eps =  1.1102230246251565e-16 , one + eps =  1.0\n"
     ]
    }
   ],
   "source": [
    "# Testing for machine precision within a factor of two for doubles\n",
    "\n",
    "eps2 = np.float64(1.0)\n",
    "loop2 = True\n",
    "\n",
    "while loop2:\n",
    "    eps2 = eps2/np.float64(2)\n",
    "    one2 = np.float64(1.0)+eps2\n",
    "    if one2 == np.float64(1.0):\n",
    "        print('eps = ', eps2, \", one + eps = \", one2)\n",
    "        loop2 = False"
   ]
  }
 ],
 "metadata": {
  "kernelspec": {
   "display_name": "Python 3",
   "language": "python",
   "name": "python3"
  },
  "language_info": {
   "codemirror_mode": {
    "name": "ipython",
    "version": 3
   },
   "file_extension": ".py",
   "mimetype": "text/x-python",
   "name": "python",
   "nbconvert_exporter": "python",
   "pygments_lexer": "ipython3",
   "version": "3.8.17"
  },
  "orig_nbformat": 4
 },
 "nbformat": 4,
 "nbformat_minor": 2
}
